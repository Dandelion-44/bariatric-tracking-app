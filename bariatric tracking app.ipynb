{
  "metadata": {
    "kernelspec": {
      "name": "python",
      "display_name": "Python (Pyodide)",
      "language": "python"
    },
    "language_info": {
      "codemirror_mode": {
        "name": "python",
        "version": 3
      },
      "file_extension": ".py",
      "mimetype": "text/x-python",
      "name": "python",
      "nbconvert_exporter": "python",
      "pygments_lexer": "ipython3",
      "version": "3.8"
    }
  },
  "nbformat_minor": 5,
  "nbformat": 4,
  "cells": [
    {
      "id": "6d7e6e67-4f9e-4303-a6e9-38752f62fd3d",
      "cell_type": "code",
      "source": "import csv\nfrom datetime import datetime\n\ndef log_entry():\n    date = datetime.now().strftime(\"%Y-%m-%d\")\n    weight = input(\"Enter today's weight (lbs): \")\n    calories = input(\"Enter calories eaten today: \")\n    target_calories = input(\"Enter your target calories for today: \")\n\n    with open(\"tracker.csv\", mode=\"a\", newline=\"\") as file:\n        writer = csv.writer(file)\n        writer.writerow([date, weight, calories, target_calories])\n        print(f\"✅ Entry saved for {date}.\")\n\nlog_entry()\n",
      "metadata": {
        "trusted": true
      },
      "outputs": [
        {
          "output_type": "stream",
          "name": "stdin",
          "text": "Enter today's weight (lbs):  466\nEnter calories eaten today:  1253\nEnter your target calories for today:  2500\n"
        },
        {
          "name": "stdout",
          "output_type": "stream",
          "text": "✅ Entry saved for 2025-07-16.\n"
        }
      ],
      "execution_count": 1
    },
    {
      "id": "9e3a5a2f-623c-42f6-b588-3a62d70b053a",
      "cell_type": "code",
      "source": "",
      "metadata": {
        "trusted": true
      },
      "outputs": [],
      "execution_count": null
    }
  ]
}